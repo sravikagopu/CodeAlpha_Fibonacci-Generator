{
 "cells": [
  {
   "cell_type": "code",
   "execution_count": 1,
   "id": "76d31723",
   "metadata": {},
   "outputs": [
    {
     "name": "stdout",
     "output_type": "stream",
     "text": [
      "[0, 1, 1, 2, 3, 5, 8, 13, 21, 34]\n"
     ]
    }
   ],
   "source": [
    "#using loop\n",
    "def generate_fibonacci(n):\n",
    "    fibonacci_series = [0, 1]\n",
    "    for i in range(2, n):\n",
    "        next_number = fibonacci_series[i-1] + fibonacci_series[i-2]\n",
    "        fibonacci_series.append(next_number)\n",
    "    return fibonacci_series\n",
    "\n",
    "# Example: Generate the first 10 Fibonacci numbers\n",
    "result = generate_fibonacci(10)\n",
    "print(result)\n"
   ]
  },
  {
   "cell_type": "code",
   "execution_count": 2,
   "id": "5d13b795",
   "metadata": {},
   "outputs": [
    {
     "name": "stdout",
     "output_type": "stream",
     "text": [
      "[0, 1, 1, 2, 3, 5, 8, 13, 21, 34]\n"
     ]
    }
   ],
   "source": [
    "#using recursion\n",
    "def fibonacci_recursive(n):\n",
    "    if n <= 1:\n",
    "        return n\n",
    "    else:\n",
    "        return fibonacci_recursive(n-1) + fibonacci_recursive(n-2)\n",
    "\n",
    "# Example: Generate the first 10 Fibonacci numbers\n",
    "result = [fibonacci_recursive(i) for i in range(10)]\n",
    "print(result)\n"
   ]
  },
  {
   "cell_type": "code",
   "execution_count": null,
   "id": "4ee52ebe",
   "metadata": {},
   "outputs": [],
   "source": []
  }
 ],
 "metadata": {
  "kernelspec": {
   "display_name": "Python 3 (ipykernel)",
   "language": "python",
   "name": "python3"
  },
  "language_info": {
   "codemirror_mode": {
    "name": "ipython",
    "version": 3
   },
   "file_extension": ".py",
   "mimetype": "text/x-python",
   "name": "python",
   "nbconvert_exporter": "python",
   "pygments_lexer": "ipython3",
   "version": "3.9.13"
  }
 },
 "nbformat": 4,
 "nbformat_minor": 5
}
